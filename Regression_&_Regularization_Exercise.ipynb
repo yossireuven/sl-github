{
  "nbformat": 4,
  "nbformat_minor": 0,
  "metadata": {
    "colab": {
      "name": "Regression & Regularization - Exercise.ipynb",
      "version": "0.3.2",
      "provenance": [],
      "collapsed_sections": [],
      "include_colab_link": true
    },
    "kernelspec": {
      "display_name": "Python 3",
      "language": "python",
      "name": "python3"
    }
  },
  "cells": [
    {
      "cell_type": "markdown",
      "metadata": {
        "id": "view-in-github",
        "colab_type": "text"
      },
      "source": [
        "<a href=\"https://colab.research.google.com/github/yossireuven/sl-github/blob/master/Regression_%26_Regularization_Exercise.ipynb\" target=\"_parent\"><img src=\"https://colab.research.google.com/assets/colab-badge.svg\" alt=\"Open In Colab\"/></a>"
      ]
    },
    {
      "metadata": {
        "colab_type": "text",
        "id": "chEqqJbLzFew"
      },
      "cell_type": "markdown",
      "source": [
        "# Yandex Data Science School\n",
        "## Linear Regression & Regularization Exercise.\n",
        "### Written by Dr. Hanan Shteingart.\n",
        "\n",
        "## Outline\n",
        "In this exercise you will learn the following topics:\n",
        "\n",
        "1. Refresher on how linear regression is solved in batch and in Gradient Descent \n",
        "2. Implemntation of Ridge Regression\n",
        "3. Comparing Ridge, Lasso and vanila Linear Regression on a dataset"
      ]
    },
    {
      "metadata": {
        "colab_type": "text",
        "id": "JA3MEKz80vdy"
      },
      "cell_type": "markdown",
      "source": [
        "## Exercise 1 - Ordinary Least Square\n",
        "* Get the boston housing dataset by using the scikit-learn package. hint: [load_boston](http://scikit-learn.org/stable/modules/generated/sklearn.datasets.load_boston.html)"
      ]
    },
    {
      "metadata": {
        "id": "y6O62JFCVXrZ",
        "colab_type": "code",
        "colab": {}
      },
      "cell_type": "code",
      "source": [
        "import numpy as np\n",
        "from scipy import stats\n",
        "import matplotlib.pyplot as plt\n",
        "from sklearn.metrics import mean_squared_error\n",
        "from sklearn.model_selection import train_test_split\n",
        "from sklearn.model_selection import ShuffleSplit\n",
        "from sklearn.datasets import load_boston\n",
        "from sklearn import preprocessing\n",
        "boston = load_boston()"
      ],
      "execution_count": 0,
      "outputs": []
    },
    {
      "metadata": {
        "id": "NT9HgU1QVXri",
        "colab_type": "code",
        "colab": {},
        "outputId": "e93d25c9-0e44-42a5-fc4f-62549932e047"
      },
      "cell_type": "code",
      "source": [
        "print('n: {} (# of samples)\\np: {}  (# of features)'.format(boston.data.shape[0],boston.data.shape[1]))"
      ],
      "execution_count": 0,
      "outputs": [
        {
          "output_type": "stream",
          "text": [
            "n: 506 (# of samples)\n",
            "p: 13  (# of features)\n"
          ],
          "name": "stdout"
        }
      ]
    },
    {
      "metadata": {
        "id": "eyBvzHmFVXru",
        "colab_type": "code",
        "colab": {}
      },
      "cell_type": "code",
      "source": [
        "class OrdinaryLinearRegression:\n",
        "    def __init__(self):\n",
        "        self.w = None\n",
        "        self.X = None\n",
        "        self.y = None\n",
        "    \n",
        "    def fit(self, X, y):\n",
        "        self.X = np.c_[np.ones(X.shape[0]), X]    # add 1's column (bias)\n",
        "        self.y = y\n",
        "        self.w = np.matmul(np.matmul(np.linalg.pinv(np.matmul(np.transpose(X), X)), np.transpose(X)), y)\n",
        "        \n",
        "    def predict(self, X):\n",
        "        return np.matmul(X, self.w)\n",
        "    \n",
        "    def score(self):\n",
        "        pass"
      ],
      "execution_count": 0,
      "outputs": []
    },
    {
      "metadata": {
        "id": "fnx6qMRqVXr1",
        "colab_type": "code",
        "colab": {},
        "outputId": "26096428-58f7-45ac-9b3d-6915329c1c0f"
      },
      "cell_type": "code",
      "source": [
        "olr = OrdinaryLinearRegression()\n",
        "olr.fit(boston.data, boston.target)\n",
        "print('Training MSE = {:.2e}'.format(mean_squared_error(boston.target, olr.predict(boston.data))))"
      ],
      "execution_count": 0,
      "outputs": [
        {
          "output_type": "stream",
          "text": [
            "Training MSE = 2.42e+01\n"
          ],
          "name": "stdout"
        }
      ]
    },
    {
      "metadata": {
        "id": "n556k-jpVXr9",
        "colab_type": "code",
        "colab": {},
        "outputId": "5a5becd5-53b4-4fe1-c30d-9fbec12f8bbb"
      },
      "cell_type": "code",
      "source": [
        "plt.scatter(boston.target, olr.predict(boston.data),  color='b', marker='x')\n",
        "plt.xlabel('Y', fontsize=18)\n",
        "plt.ylabel(r'$\\hat Y_{OLR}$', fontsize=16)\n",
        "plt.show()"
      ],
      "execution_count": 0,
      "outputs": [
        {
          "output_type": "display_data",
          "data": {
            "image/png": "[encoded data removed]",
            "text/plain": [
              "<Figure size 432x288 with 1 Axes>"
            ]
          },
          "metadata": {
            "tags": [],
            "needs_background": "light"
          }
        }
      ]
    },
    {
      "metadata": {
        "id": "Yh9VvG2HVXsG",
        "colab_type": "code",
        "colab": {},
        "outputId": "2440bcc1-04e3-4117-fe44-9999ecb3932c"
      },
      "cell_type": "code",
      "source": [
        "mse_e = []\n",
        "rs = ShuffleSplit(n_splits=20, test_size=.25, random_state=0)\n",
        "for train_index, test_index in rs.split(boston.data):\n",
        "    olr.fit(boston.data[train_index], boston.target[train_index])\n",
        "    mse_e.append(mean_squared_error(boston.target[test_index], olr.predict(boston.data[test_index])))\n",
        "print('Average MSE = {} [20 Iterations, (75-25) split]'.format(np.average(mse_e)))"
      ],
      "execution_count": 0,
      "outputs": [
        {
          "output_type": "stream",
          "text": [
            "Average MSE = 25.039747482719108 [20 Iterations, (75-25) split]\n"
          ],
          "name": "stdout"
        }
      ]
    },
    {
      "metadata": {
        "id": "195KQuKFVXsN",
        "colab_type": "code",
        "colab": {}
      },
      "cell_type": "code",
      "source": [
        ""
      ],
      "execution_count": 0,
      "outputs": []
    },
    {
      "metadata": {
        "id": "vcp9lP4TVXsV",
        "colab_type": "code",
        "colab": {}
      },
      "cell_type": "code",
      "source": [
        "class OrdinaryLinearRegressionGradientDescent:\n",
        "    def __init__(self, lr=0.11, n_itr=100):\n",
        "        self.w = None\n",
        "        self.mse = None\n",
        "        self.lr = lr\n",
        "        self.n_itr=n_itr\n",
        "    \n",
        "    def fit(self, X, y):\n",
        "        #X = (X - X.mean()) / X.std()\n",
        "        #X = (X - X.min()) / (X.max() - X.min())\n",
        "        X = X / X.mean(axis=0) \n",
        "        X = np.c_[np.ones(X.shape[0]),X]\n",
        "        self.w = np.zeros(X.shape[1])\n",
        "        norm = 1.0/X.shape[0]\n",
        "        for i in range(self.n_itr):\n",
        "            Xw = np.dot(X, self.w)\n",
        "            self.w = self.w - self.lr * norm * np.dot(X.T, Xw-y)\n",
        "        self.mse = mean_squared_error(y, np.dot(X, self.w))\n",
        "        # print('learning_rate = {} | mse = {} | # of iterations = {}'.format(self.lr, self.mse, self.n_itr))\n",
        "        \n",
        "    def predict(self, X):\n",
        "        return np.matmul(X, self.w)\n",
        "    \n",
        "    def score(self):\n",
        "        pass"
      ],
      "execution_count": 0,
      "outputs": []
    },
    {
      "metadata": {
        "id": "wHtpRqBmVXsZ",
        "colab_type": "code",
        "colab": {}
      },
      "cell_type": "code",
      "source": [
        "olr_gd = OrdinaryLinearRegressionGradientDescent()\n",
        "olr_gd.fit(boston.data, boston.target)"
      ],
      "execution_count": 0,
      "outputs": []
    },
    {
      "metadata": {
        "id": "lUHgN_vCVXse",
        "colab_type": "code",
        "colab": {},
        "outputId": "b3ba2381-4e2a-4c3d-d65a-bf1f8faeb809"
      },
      "cell_type": "code",
      "source": [
        "mses = [np.inf]\n",
        "rates = np.linspace(0,5,1000)[1:]\n",
        "for lr_ in rates:\n",
        "    olr_gd = OrdinaryLinearRegressionGradientDescent(lr=lr_, n_itr=100)\n",
        "    olr_gd.fit(boston.data, boston.target)\n",
        "    if abs(olr_gd.mse - mses[-1]) < 0.4:\n",
        "        break\n",
        "    mses.append(olr_gd.mse)\n",
        "plt.xlabel('Learning Rate')\n",
        "plt.ylabel('MSE')\n",
        "plt.plot(rates[:len(mses)], mses, linewidth=2, c='k');\n",
        "print('Optimal learning rate = {:.2f} | MSE = {:2.2f}\\n'.format(rates[:len(mses)][-1], mses[-1]))"
      ],
      "execution_count": 0,
      "outputs": [
        {
          "output_type": "stream",
          "text": [
            "Optimal learning rate = 0.11 | MSE = 34.19\n",
            "\n"
          ],
          "name": "stdout"
        },
        {
          "output_type": "display_data",
          "data": {
            "image/png": "[encoded data removed]",
            "text/plain": [
              "<Figure size 432x288 with 1 Axes>"
            ]
          },
          "metadata": {
            "tags": [],
            "needs_background": "light"
          }
        }
      ]
    },
    {
      "metadata": {
        "id": "lYrW9S0PVXsk",
        "colab_type": "text"
      },
      "cell_type": "markdown",
      "source": [
        "    * What is the effect of learning rate? \n",
        "        -> Defining the step size, too big of a step and we may overshot the minimum, too small and it will take to long to converge\n",
        "    * How would you find number of iteration automatically? \n",
        "        -> Few ideas:\n",
        "            - stop when the improvment between iterations smaller from a pre-defined threshold\n",
        "            - stop when the mse get to 'close enough' distance from 0\n",
        "    * Gradient Descent does not work well when features are not scaled evenly - why?\n",
        "        -> N/A"
      ]
    },
    {
      "metadata": {
        "id": "hFKeiwFTVXsm",
        "colab_type": "code",
        "colab": {}
      },
      "cell_type": "code",
      "source": [
        ""
      ],
      "execution_count": 0,
      "outputs": []
    },
    {
      "metadata": {
        "colab_type": "text",
        "id": "7HVfnXvZFi98"
      },
      "cell_type": "markdown",
      "source": [
        "## Exercise 2 - Ridge Linear Regression\n",
        "\n",
        "Recall that ridge regression is identical to OLS but with a L2 penalty over the weights:\n",
        "\n",
        "$L(y,\\hat{y})=\\frac{1}{N}\\sum_{i=1}^{i=N}{(y^{(i)}-\\hat{y}^{(i)})^2} + \\lambda \\left\\Vert w \\right\\Vert_2$\n",
        "\n",
        "* Show, by differentiating the above loss, that the analytical solution is $w_{Ridge}=(X^TX+\\lambda I)^{-1}X^Ty$"
      ]
    },
    {
      "metadata": {
        "id": "nJxh6b7TVXst",
        "colab_type": "text"
      },
      "cell_type": "markdown",
      "source": [
        "$L(y,\\hat{y})=\\frac{1}{N}\\sum_{i=1}^{i=N}{(y^{(i)}-\\hat{y}^{(i)})^2} + \\lambda \\left\\Vert w \\right\\Vert_2$\n"
      ]
    },
    {
      "metadata": {
        "id": "ff_71jWCVXsv",
        "colab_type": "code",
        "colab": {}
      },
      "cell_type": "code",
      "source": [
        ""
      ],
      "execution_count": 0,
      "outputs": []
    },
    {
      "metadata": {
        "id": "_i622B1UVXs3",
        "colab_type": "code",
        "colab": {}
      },
      "cell_type": "code",
      "source": [
        ""
      ],
      "execution_count": 0,
      "outputs": []
    },
    {
      "metadata": {
        "colab_type": "text",
        "id": "aeD1Zxj95im7"
      },
      "cell_type": "markdown",
      "source": [
        "## Exercise 3 - Lasso Linear Regression\n",
        "\n",
        "As we've seen in class, Lasso Regression is a regularization technique with $L_1$ penalty on weights. This techniques creates sparse weights (some weights become effectively zero). Programming a Lasso solver is a challange and is left as an optional exercise below.\n",
        "This exercise will focus on the analysis of the different regularization techniques over a toy problem using the scikit-learn implementation.\n",
        "\n",
        "### Data generation: 1-D Polynomal Regression\n",
        "```\n",
        "def true_fun(X):\n",
        "    return np.cos(1.5 * np.pi * X)\n",
        "\n",
        "np.random.seed(0)\n",
        "n_samples = 30\n",
        "degrees = [1, 4, 15]\n",
        "X = np.sort(np.random.rand(n_samples))\n",
        "y = true_fun(X) + np.random.randn(n_samples) * 0.1\n",
        "\n",
        "```\n",
        "\n",
        "* Use the preprocessing transformer `sklearn.preprocessing.PolynomialFeatures` in order to create a feature space. Note, you can use `sklearn.pipeline.Pipeline` in order to create an effective model which does the preprocessing (not essential).\n",
        "* Use `sklearn.model_selection.cross_val_score` to evaluate each of the linear model provided by Scikit-learn (`from sklearn.linear_model import LinearRegression, RidgeCV, LassoCV`) and compare the performance over the different `degrees`. To do so, create a 3x3 plot where each row correspond to one model and each column to one degree. Each plot should plot the train data as well as the true model and the fitted one (use 100 points in the range [0,1]) and the CV MSE. What is the take home message? (Note: RidgeCV and LassoCV do an internal cross-validation to determin the regularization parameter.)\n",
        "* Weights spectrum: change the `alpha` parameter gradually (on a logartithmic scale) and observe how the coefficients change for `degrees=5` over alpha for Ridge and Lasso. What is the take home message?"
      ]
    },
    {
      "metadata": {
        "id": "O_yXMlBRVXs-",
        "colab_type": "code",
        "colab": {}
      },
      "cell_type": "code",
      "source": [
        "from sklearn.linear_model import (LinearRegression, RidgeCV, LassoCV)\n",
        "from sklearn.preprocessing import PolynomialFeatures\n",
        "from sklearn.pipeline import make_pipeline\n",
        "from sklearn.pipeline import Pipeline\n",
        "from sklearn.model_selection import cross_val_score"
      ],
      "execution_count": 0,
      "outputs": []
    },
    {
      "metadata": {
        "id": "CNYox-eUVXtF",
        "colab_type": "code",
        "colab": {}
      },
      "cell_type": "code",
      "source": [
        "def true_fun(X):\n",
        "    return np.cos(1.5 * np.pi * X)\n",
        "\n",
        "np.random.seed(0)\n",
        "n_samples = 30\n",
        "degrees = [1, 4, 15]\n",
        "X = np.sort(np.random.rand(n_samples))\n",
        "y = true_fun(X) + np.random.randn(n_samples) * 0.1\n",
        "x_text = np.linspace(0,1,100)"
      ],
      "execution_count": 0,
      "outputs": []
    },
    {
      "metadata": {
        "id": "zp-7N5yXVXtL",
        "colab_type": "code",
        "colab": {}
      },
      "cell_type": "code",
      "source": [
        "estimators = [('OLS', LinearRegression()),\n",
        "              ('Ridge', RidgeCV(alphas=[1e-3, 1e-2, 1e-1, 1])),\n",
        "              ('Lasso', LassoCV())]"
      ],
      "execution_count": 0,
      "outputs": []
    },
    {
      "metadata": {
        "id": "_QEw4v3YVXtQ",
        "colab_type": "code",
        "colab": {}
      },
      "cell_type": "code",
      "source": [
        "estimators = [('Lasso', LassoCV(cv=5))]"
      ],
      "execution_count": 0,
      "outputs": []
    },
    {
      "metadata": {
        "id": "2KF-X1IbVXtX",
        "colab_type": "code",
        "colab": {}
      },
      "cell_type": "code",
      "source": [
        "# colors = ['teal', 'yellowgreen', 'gold']\n",
        "# plt.plot(X, true_fun(X), color='cornflowerblue', linewidth=2, label=\"ground truth\")\n",
        "# plt.scatter(np.sort(X[:20]), true_fun(np.sort(X[:20])), color='navy', s=30, marker='o', label=\"training points\")\n",
        "\n",
        "plt.figure(figsize=(21, 5))\n",
        "for name, estimator in estimators:\n",
        "    for count, degree in enumerate(degrees):\n",
        "        plt.subplot(estimators.index((name, estimator))+1, 3, count+1)\n",
        "        model = make_pipeline(PolynomialFeatures(degree), estimator)\n",
        "        model.fit(x[:, np.newaxis], true_fun(x))\n",
        "        cv = cross_val_score(model, X[:, np.newaxis], y, cv=5)\n",
        "        plt.plot(x_text, model.predict(x_text[:, np.newaxis]), linewidth=2, c='g', label=\"Model\")\n",
        "        plt.plot(x_text, true_fun(x_text), linewidth=1, c='b', label=\"True function\")\n",
        "        plt.scatter(X, y, c='r', label=\"Samples\")\n",
        "        plt.xlim([0,1])\n",
        "        plt.ylim([-2,2])\n",
        "        plt.xlabel(\"x\")\n",
        "        plt.ylabel(\"y\")\n",
        "        plt.title(\"Degree {}\\nMSE = {:.2e}\".format(degree, -cv.mean()))\n",
        "        plt.legend(loc=\"best\")\n",
        "\n",
        "plt.show()"
      ],
      "execution_count": 0,
      "outputs": []
    },
    {
      "metadata": {
        "id": "0dP_ioPdVXta",
        "colab_type": "code",
        "colab": {},
        "outputId": "bef0ec05-7a08-4ccb-917f-9d119b4730d8"
      },
      "cell_type": "code",
      "source": [
        "# Test\n",
        "from sklearn import linear_model\n",
        "olr_t = linear_model.LinearRegression()\n",
        "olr_t.fit(boston.data, boston.target)\n",
        "mean_squared_error(boston.target, olr_t.predict(boston.data))"
      ],
      "execution_count": 0,
      "outputs": [
        {
          "output_type": "execute_result",
          "data": {
            "text/plain": [
              "21.894831181729206"
            ]
          },
          "metadata": {
            "tags": []
          },
          "execution_count": 33
        }
      ]
    },
    {
      "metadata": {
        "id": "Hm80pQdyVXtf",
        "colab_type": "code",
        "colab": {},
        "outputId": "902f05b6-7f24-4ffb-ee6e-dd8309e55e37"
      },
      "cell_type": "code",
      "source": [
        "plt.scatter(boston.target, olr_t.predict(boston.data),  color='b', marker='x')"
      ],
      "execution_count": 0,
      "outputs": [
        {
          "output_type": "execute_result",
          "data": {
            "text/plain": [
              "<matplotlib.collections.PathCollection at 0x1d6465dfef0>"
            ]
          },
          "metadata": {
            "tags": []
          },
          "execution_count": 34
        },
        {
          "output_type": "display_data",
          "data": {
            "image/png": "[encoded data removed]",
            "text/plain": [
              "<Figure size 432x288 with 1 Axes>"
            ]
          },
          "metadata": {
            "tags": [],
            "needs_background": "light"
          }
        }
      ]
    },
    {
      "metadata": {
        "id": "nepdP2AaVXtj",
        "colab_type": "code",
        "colab": {}
      },
      "cell_type": "code",
      "source": [
        "olr_t = linear_model.LinearRegression()\n",
        "mse_e_t = []\n",
        "rs = ShuffleSplit(n_splits=20, test_size=.25, random_state=0)\n",
        "for train_index, test_index in rs.split(boston.data):\n",
        "    olr_t.fit(boston.data[train_index], boston.target[train_index])\n",
        "    mse_e_t.append(mean_squared_error(boston.target[test_index], olr_t.predict(boston.data[test_index])))"
      ],
      "execution_count": 0,
      "outputs": []
    },
    {
      "metadata": {
        "id": "V6yjc1tgVXtl",
        "colab_type": "code",
        "colab": {},
        "outputId": "90431a97-cf5e-4655-f0ef-45d3ee9849d1"
      },
      "cell_type": "code",
      "source": [
        "print('20 Iterations, (75-25) split average MSE = {}'.format(np.average(mse_e_t)))"
      ],
      "execution_count": 0,
      "outputs": [
        {
          "output_type": "stream",
          "text": [
            "20 Iterations, (75-25) split average MSE = 23.295729500086402\n"
          ],
          "name": "stdout"
        }
      ]
    },
    {
      "metadata": {
        "id": "zgXKyQLnVXtp",
        "colab_type": "code",
        "colab": {}
      },
      "cell_type": "code",
      "source": [
        "from sklearn.feature_selection import SelectFromModel\n",
        "alphas = np.logspace(-4, -0.5, 30)"
      ],
      "execution_count": 0,
      "outputs": []
    },
    {
      "metadata": {
        "id": "zkmJBF0PVXtt",
        "colab_type": "code",
        "colab": {},
        "outputId": "142f3bd6-60cc-4651-bac3-afb4f78778a8"
      },
      "cell_type": "code",
      "source": [
        "X"
      ],
      "execution_count": 0,
      "outputs": [
        {
          "output_type": "execute_result",
          "data": {
            "text/plain": [
              "array([0.0202184 , 0.07103606, 0.0871293 , 0.11827443, 0.14335329,\n",
              "       0.38344152, 0.41466194, 0.4236548 , 0.43758721, 0.46147936,\n",
              "       0.52184832, 0.52889492, 0.54488318, 0.5488135 , 0.56804456,\n",
              "       0.60276338, 0.63992102, 0.64589411, 0.71518937, 0.77815675,\n",
              "       0.78052918, 0.79172504, 0.79915856, 0.83261985, 0.87001215,\n",
              "       0.891773  , 0.92559664, 0.94466892, 0.96366276, 0.97861834])"
            ]
          },
          "metadata": {
            "tags": []
          },
          "execution_count": 63
        }
      ]
    },
    {
      "metadata": {
        "id": "lAqyifbPVXtz",
        "colab_type": "code",
        "colab": {},
        "outputId": "b4c08209-6cde-407f-8b42-2726509dd44d"
      },
      "cell_type": "code",
      "source": [
        "y"
      ],
      "execution_count": 0,
      "outputs": [
        {
          "output_type": "execute_result",
          "data": {
            "text/plain": [
              "array([ 1.0819082 ,  0.87027612,  1.14386208,  0.70322051,  0.78494746,\n",
              "       -0.25265944, -0.22066063, -0.26595867, -0.4562644 , -0.53001927,\n",
              "       -0.86481449, -0.99462675, -0.87458603, -0.83407054, -0.77090649,\n",
              "       -0.83476183, -1.03080067, -1.02544303, -1.0788268 , -1.00713288,\n",
              "       -1.03009698, -0.63623922, -0.86230652, -0.75328767, -0.70023795,\n",
              "       -0.41043495, -0.50486767, -0.27907117, -0.25994628, -0.06189804])"
            ]
          },
          "metadata": {
            "tags": []
          },
          "execution_count": 64
        }
      ]
    },
    {
      "metadata": {
        "id": "w_iLs7PSVXt5",
        "colab_type": "code",
        "colab": {}
      },
      "cell_type": "code",
      "source": [
        "X = np.expand_dims(X, axis=1)"
      ],
      "execution_count": 0,
      "outputs": []
    },
    {
      "metadata": {
        "id": "I7r-7PorVXt8",
        "colab_type": "code",
        "colab": {},
        "outputId": "a0058c71-2a80-4ebf-8d9c-3a563385a6ce"
      },
      "cell_type": "code",
      "source": [
        "lassreg = LassoCV(cv=5)\n",
        "lassreg.fit(X, y)"
      ],
      "execution_count": 0,
      "outputs": [
        {
          "output_type": "execute_result",
          "data": {
            "text/plain": [
              "LassoCV(alphas=None, copy_X=True, cv=5, eps=0.001, fit_intercept=True,\n",
              "    max_iter=1000, n_alphas=100, n_jobs=None, normalize=False,\n",
              "    positive=False, precompute='auto', random_state=None,\n",
              "    selection='cyclic', tol=0.0001, verbose=False)"
            ]
          },
          "metadata": {
            "tags": []
          },
          "execution_count": 71
        }
      ]
    },
    {
      "metadata": {
        "id": "U2bmDatwVXuA",
        "colab_type": "code",
        "colab": {},
        "outputId": "eeeceda6-0ef4-474d-a27c-f830cf6ba7b6"
      },
      "cell_type": "code",
      "source": [
        "plt.scatter(y, lassreg.predict(X),  color='b', marker='x')"
      ],
      "execution_count": 0,
      "outputs": [
        {
          "output_type": "execute_result",
          "data": {
            "text/plain": [
              "<matplotlib.collections.PathCollection at 0x19015337470>"
            ]
          },
          "metadata": {
            "tags": []
          },
          "execution_count": 73
        },
        {
          "output_type": "display_data",
          "data": {
            "image/png": "[encoded data removed]",
            "text/plain": [
              "<Figure size 432x288 with 1 Axes>"
            ]
          },
          "metadata": {
            "tags": [],
            "needs_background": "light"
          }
        }
      ]
    },
    {
      "metadata": {
        "id": "RN5l1bwqVXuE",
        "colab_type": "code",
        "colab": {},
        "outputId": "5c9845db-c9f3-4d98-a987-9e02e7b9c1f0"
      },
      "cell_type": "code",
      "source": [
        "lassreg.score(X[:, np.newaxis], y)"
      ],
      "execution_count": 0,
      "outputs": [
        {
          "output_type": "execute_result",
          "data": {
            "text/plain": [
              "2.220446049250313e-16"
            ]
          },
          "metadata": {
            "tags": []
          },
          "execution_count": 57
        }
      ]
    }
  ]
}